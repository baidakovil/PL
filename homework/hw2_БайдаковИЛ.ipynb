{
 "cells": [
  {
   "cell_type": "markdown",
   "metadata": {},
   "source": [
    "Центр непрерывного образования\n",
    "\n",
    "# Программа «Python для автоматизации и анализа данных»\n",
    "\n",
    "Неделя 3 - 1\n",
    "\n",
    "*Ян Пиле, НИУ ВШЭ*  \n"
   ]
  },
  {
   "cell_type": "markdown",
   "metadata": {},
   "source": [
    "## Задачи"
   ]
  },
  {
   "cell_type": "markdown",
   "metadata": {},
   "source": [
    "### Задача 1\n",
    "\n",
    "Дана строка, состоящая из слов. Сделать из нее аббревиатуру с помощью списковых включений\n",
    "\n",
    "**Вход:** \"Комитет Государственной Безопасности\"\n",
    "\n",
    "**Выход:** \"КГБ\""
   ]
  },
  {
   "cell_type": "code",
   "execution_count": 1,
   "metadata": {
    "scrolled": true
   },
   "outputs": [
    {
     "name": "stdout",
     "output_type": "stream",
     "text": [
      "КГБ\n"
     ]
    }
   ],
   "source": [
    "text = \"Комитет Государственной Безопасности\"\n",
    "\n",
    "bg = str()\n",
    "bg = bg.join([char for char in text if str.isupper(char)])\n",
    "print(bg)"
   ]
  },
  {
   "cell_type": "markdown",
   "metadata": {},
   "source": [
    "### Задача 2\n",
    "\n",
    "На вход принимается число N. \n",
    "\n",
    "Выведите на печать следующий паттерн:\n",
    "\n",
    "1\n",
    "\n",
    "1 2\n",
    "\n",
    "1 2 3\n",
    "\n",
    "1 2 3 4\n",
    "\n",
    "...\n",
    "\n",
    "1 ... N\n",
    "\n",
    "**Это не так просто)**"
   ]
  },
  {
   "cell_type": "code",
   "execution_count": 3,
   "metadata": {},
   "outputs": [
    {
     "name": "stdout",
     "output_type": "stream",
     "text": [
      "Введите N: 4\n",
      "1\n",
      "1 2\n",
      "1 2 3\n",
      "1 2 3 4\n"
     ]
    }
   ],
   "source": [
    "num = int(input('Введите N: '))\n",
    "\n",
    "for i in range(0,num) : print(*range(1,i+2))"
   ]
  },
  {
   "cell_type": "markdown",
   "metadata": {},
   "source": [
    "### Задача 3\n",
    "\n",
    "Дана строка. Замените в ней все буквы А на # с помощью спискового включения.\n"
   ]
  },
  {
   "cell_type": "code",
   "execution_count": 4,
   "metadata": {},
   "outputs": [
    {
     "name": "stdout",
     "output_type": "stream",
     "text": [
      "#Б#ЖУР, #Б#ЗИНСКИЙ, #Б#ЗИНЫ, #ББ#Т, #ББ#ТИС#, #ББ#ТСТВО\n"
     ]
    }
   ],
   "source": [
    "old_str = 'АБАЖУР, АБАЗИНСКИЙ, АБАЗИНЫ, АББАТ, АББАТИСА, АББАТСТВО'\n",
    "new_str = ''\n",
    "new_str = new_str.join([char if char != 'А' else '#' for char in old_str])\n",
    "print(new_str)"
   ]
  },
  {
   "cell_type": "markdown",
   "metadata": {},
   "source": [
    "### Задача 4\n",
    "\n",
    "В математике существует так называемая последовательность чисел Фибоначчи. Выглядит она так: 1, 1, 2, 3, 5, 8, 13, ...\n",
    "\n",
    "Каждое последующее число равно сумме двух предыдущих, а первые два числа Фибоначчи - две единицы.\n",
    "Запросите с клавиатуры число N и запишите в список первые N чисел Фибоначчи."
   ]
  },
  {
   "cell_type": "code",
   "execution_count": 5,
   "metadata": {},
   "outputs": [
    {
     "name": "stdout",
     "output_type": "stream",
     "text": [
      "Введите N: 100\n",
      "[1, 1, 2, 3, 5, 8, 13, 21, 34, 55, 89, 144, 233, 377, 610, 987, 1597, 2584, 4181, 6765, 10946, 17711, 28657, 46368, 75025, 121393, 196418, 317811, 514229, 832040, 1346269, 2178309, 3524578, 5702887, 9227465, 14930352, 24157817, 39088169, 63245986, 102334155, 165580141, 267914296, 433494437, 701408733, 1134903170, 1836311903, 2971215073, 4807526976, 7778742049, 12586269025, 20365011074, 32951280099, 53316291173, 86267571272, 139583862445, 225851433717, 365435296162, 591286729879, 956722026041, 1548008755920, 2504730781961, 4052739537881, 6557470319842, 10610209857723, 17167680177565, 27777890035288, 44945570212853, 72723460248141, 117669030460994, 190392490709135, 308061521170129, 498454011879264, 806515533049393, 1304969544928657, 2111485077978050, 3416454622906707, 5527939700884757, 8944394323791464, 14472334024676221, 23416728348467685, 37889062373143906, 61305790721611591, 99194853094755497, 160500643816367088, 259695496911122585, 420196140727489673, 679891637638612258, 1100087778366101931, 1779979416004714189, 2880067194370816120, 4660046610375530309, 7540113804746346429, 12200160415121876738, 19740274219868223167, 31940434634990099905, 51680708854858323072, 83621143489848422977, 135301852344706746049, 218922995834555169026, 354224848179261915075]\n"
     ]
    }
   ],
   "source": [
    "num = int(input('Введите N: '))\n",
    "\n",
    "count = 0\n",
    "fibonacci = list()\n",
    "\n",
    "for i in range(0,num):\n",
    "    if i in (0, 1) :\n",
    "        fibonacci.append(int('1'))\n",
    "    else :\n",
    "        fibonacci.append(fibonacci[i-1]+fibonacci[i-2])\n",
    "\n",
    "print(fibonacci)"
   ]
  },
  {
   "cell_type": "markdown",
   "metadata": {},
   "source": [
    "### Задача 5 Подсчет слов\n",
    "Давайте теперь поработаем с настоящим файлом и действительно посчитаем в нем слова. Мы загрузим метаданные почтового сервера университета Мичигана. И попробуем найти, с какого адреса ушло больше всего писем."
   ]
  },
  {
   "cell_type": "code",
   "execution_count": 6,
   "metadata": {},
   "outputs": [
    {
     "name": "stdout",
     "output_type": "stream",
     "text": [
      "Больше всего отправил zqian@umich.edu. 195 писем!\n"
     ]
    }
   ],
   "source": [
    "# импортируем библиотеку для доступа к файлам в интернете\n",
    "import requests\n",
    "# в переменной mbox хранится текст для работы\n",
    "mbox = requests.get('http://www.py4inf.com/code/mbox.txt').text\n",
    "\n",
    "mboxCount = dict()\n",
    "for line in mbox.splitlines() :\n",
    "    if not line.startswith('From: ') :\n",
    "        continue\n",
    "    address = line.split()[1]\n",
    "    mboxCount[address] = mboxCount.get(address,0)+1\n",
    "\n",
    "mboxMaxCount = None\n",
    "mboxMaxSender = None\n",
    "\n",
    "for sender, count in mboxCount.items() :\n",
    "    if mboxMaxSender is None or mboxMaxCount < count :\n",
    "        mboxMaxCount = count\n",
    "        mboxMaxSender = sender\n",
    "\n",
    "print('Больше всего отправил {}. {} писем!'.format(mboxMaxSender,mboxMaxCount))"
   ]
  },
  {
   "cell_type": "markdown",
   "metadata": {},
   "source": [
    "### Задача 6 Посчитать среднюю метрику X-DSPAM-Confidence для письма. \n",
    "### (Кажется, это что-то похожее на вероятность того, что письмо - не спам)\n",
    "\n",
    "Давайте воспользуемся предыдущим кодом и достанем те строчки, где эта метрика записана:"
   ]
  },
  {
   "cell_type": "code",
   "execution_count": 7,
   "metadata": {},
   "outputs": [
    {
     "name": "stdout",
     "output_type": "stream",
     "text": [
      "Average X-DSPAM-Confidence for a mail:  0.89\n"
     ]
    }
   ],
   "source": [
    "# импортируем библиотеку для доступа к файлам в интернете\n",
    "import requests\n",
    "# в переменной mbox хранится текст для работы\n",
    "mbox = requests.get('http://www.py4inf.com/code/mbox.txt').text\n",
    "\n",
    "count = 0\n",
    "DSPAM_sum = 0\n",
    "\n",
    "for line in mbox.splitlines() :\n",
    "    if not line.startswith('X-DSPAM-Confidence: ') :\n",
    "        continue\n",
    "    DSPAM = float(line.split()[1])\n",
    "    DSPAM_sum = DSPAM_sum + DSPAM\n",
    "    count += 1\n",
    "    \n",
    "DSPAM_ave = DSPAM_sum / count\n",
    "print('Average X-DSPAM-Confidence for a mail: ', round(DSPAM_ave, 2))"
   ]
  },
  {
   "cell_type": "markdown",
   "metadata": {},
   "source": [
    "### Задача 7 Объединение словарей\n",
    "\n",
    "Напишите программу, которая объединяет значения из двух списков.\n",
    "\n",
    "Ввод:\n",
    "\n",
    "    shops = [{'товар': 'яблоки', 'количество': 400}, {'товар': 'конфеты', 'количество': 300}, {'товар': 'яблоки', 'количество': 750}]\n",
    "\n",
    "\n",
    "Вывод:\n",
    "\n",
    "    {'яблоки': 1150, 'конфеты': 300}"
   ]
  },
  {
   "cell_type": "code",
   "execution_count": 8,
   "metadata": {},
   "outputs": [
    {
     "name": "stdout",
     "output_type": "stream",
     "text": [
      "{'яблоки': 1150, 'конфеты': 300}\n"
     ]
    }
   ],
   "source": [
    "#версия с итератором\n",
    "\n",
    "shops = [{'товар': 'яблоки', 'количество': 400}, \n",
    "         {'товар': 'конфеты', 'количество': 300}, \n",
    "         {'товар': 'яблоки', 'количество': 750}]\n",
    "\n",
    "shopDict = dict()\n",
    "shopDictMerged = dict()\n",
    "\n",
    "for shopDict in shops :\n",
    "    myFirstIterator = iter(shopDict.values())\n",
    "    good = next(myFirstIterator)\n",
    "    quantity = next(myFirstIterator)\n",
    "    shopDictMerged[good] = shopDictMerged.get(good, 0) + quantity\n",
    "    \n",
    "print(shopDictMerged)"
   ]
  },
  {
   "cell_type": "code",
   "execution_count": 10,
   "metadata": {},
   "outputs": [
    {
     "name": "stdout",
     "output_type": "stream",
     "text": [
      "{'яблоки': 1150, 'конфеты': 300}\n"
     ]
    }
   ],
   "source": [
    "#версия без итератора\n",
    "\n",
    "shops = [{'товар': 'яблоки', 'количество': 400}, \n",
    "         {'товар': 'конфеты', 'количество': 300}, \n",
    "         {'товар': 'яблоки', 'количество': 750}]\n",
    "\n",
    "shopDict = dict()\n",
    "shopDictMerged = dict()\n",
    "nowGood = True\n",
    "\n",
    "for shopDict in shops :\n",
    "        for key, value in shopDict.items() :\n",
    "            if nowGood :\n",
    "                shopDictMerged[value] = shopDictMerged.get(value, 0)\n",
    "                actualGood = value\n",
    "                nowGood = False\n",
    "            else :\n",
    "                shopDictMerged[actualGood] = shopDictMerged.get(actualGood) + value\n",
    "                nowGood = True\n",
    "\n",
    "print(shopDictMerged)"
   ]
  },
  {
   "cell_type": "markdown",
   "metadata": {},
   "source": [
    "### Задача 8 Найти все числа от 1000 до 3000 включительно, все цифры которых четные.\n",
    "\n",
    "Программа должна выдавать результат в виде разделенной запятыми строки"
   ]
  },
  {
   "cell_type": "code",
   "execution_count": 11,
   "metadata": {},
   "outputs": [
    {
     "name": "stdout",
     "output_type": "stream",
     "text": [
      "[2000, 2002, 2004, 2006, 2008, 2020, 2022, 2024, 2026, 2028, 2040, 2042, 2044, 2046, 2048, 2060, 2062, 2064, 2066, 2068, 2080, 2082, 2084, 2086, 2088, 2200, 2202, 2204, 2206, 2208, 2220, 2222, 2224, 2226, 2228, 2240, 2242, 2244, 2246, 2248, 2260, 2262, 2264, 2266, 2268, 2280, 2282, 2284, 2286, 2288, 2400, 2402, 2404, 2406, 2408, 2420, 2422, 2424, 2426, 2428, 2440, 2442, 2444, 2446, 2448, 2460, 2462, 2464, 2466, 2468, 2480, 2482, 2484, 2486, 2488, 2600, 2602, 2604, 2606, 2608, 2620, 2622, 2624, 2626, 2628, 2640, 2642, 2644, 2646, 2648, 2660, 2662, 2664, 2666, 2668, 2680, 2682, 2684, 2686, 2688, 2800, 2802, 2804, 2806, 2808, 2820, 2822, 2824, 2826, 2828, 2840, 2842, 2844, 2846, 2848, 2860, 2862, 2864, 2866, 2868, 2880, 2882, 2884, 2886, 2888]\n"
     ]
    }
   ],
   "source": [
    "even = [i for i in range(1000,3001) if \n",
    "        i // 1000 % 2 == \n",
    "        i // 100 % 10 % 2 == \n",
    "        i // 10 % 10 % 2 == \n",
    "        i % 10 % 2 == \n",
    "        0 ]\n",
    "\n",
    "print(even)"
   ]
  },
  {
   "cell_type": "markdown",
   "metadata": {},
   "source": [
    "### Задача 9 Найти количество цифр и количество букв в строке\n",
    "\n",
    "Вход: \"абвгд 234\"\n",
    "\n",
    "\n",
    "Выход:\n",
    "\n",
    "    Цифры: 3\n",
    "    Буквы: 5"
   ]
  },
  {
   "cell_type": "code",
   "execution_count": 13,
   "metadata": {},
   "outputs": [
    {
     "name": "stdout",
     "output_type": "stream",
     "text": [
      "Введите строку:абвгд 234\n",
      " Цифры:  3 \n",
      " Буквы:  5\n"
     ]
    }
   ],
   "source": [
    "text = input('Введите строку:')\n",
    "chars = 0\n",
    "numbers = 0\n",
    "for piece in text :\n",
    "    if piece.isdecimal() :\n",
    "        numbers += 1\n",
    "        continue\n",
    "    if piece.isalpha() :\n",
    "        chars += 1\n",
    "\n",
    "print(' Цифры: ',numbers,'\\n','Буквы: ',chars)"
   ]
  },
  {
   "cell_type": "markdown",
   "metadata": {},
   "source": [
    "### Задача 10 Найти частоту слов в строке. Строка вводится с клавиатуры, допустим, она разделена пробелами\n",
    "\n",
    "Вход: \"Я не кидал никого никогда\"\n",
    "\n",
    "\n",
    "Выход:\n",
    "\n",
    "    Я:1\n",
    "    не:1\n",
    "    кидал:1\n",
    "    никого:1\n",
    "    никогда:1"
   ]
  },
  {
   "cell_type": "code",
   "execution_count": 14,
   "metadata": {},
   "outputs": [
    {
     "name": "stdout",
     "output_type": "stream",
     "text": [
      "Введите строку: \n",
      "Задача 9 Найти количество цифр и количество букв в строке\n",
      "\n",
      "\n",
      "задача : 1\n",
      "9 : 1\n",
      "найти : 1\n",
      "количество : 2\n",
      "цифр : 1\n",
      "и : 1\n",
      "букв : 1\n",
      "в : 1\n",
      "строке : 1\n"
     ]
    }
   ],
   "source": [
    "text = input('Введите строку: \\n')\n",
    "wordCounts = dict()\n",
    "\n",
    "for word in text.lower().split(' ') :\n",
    "    wordCounts[word] = wordCounts.get(word,0) + 1\n",
    "\n",
    "print('\\n')\n",
    "\n",
    "for word, count in wordCounts.items() :\n",
    "    print(word,':',count)"
   ]
  },
  {
   "cell_type": "markdown",
   "metadata": {},
   "source": [
    "### Задача 11 Дан массив из чисел. Отсортируйте его, не используя встроенных функций. (циклами for, например). Ожидаю получить сортировку пузырьком)\n",
    "\n",
    "Вход: На вход дана последовательность из N случайных чисел. Например [48, 59, 9, 90, 15, 58, 19, 49, 13, 7]\n",
    "\n",
    "\n",
    "Выход:\n",
    "\n",
    "    Отсортированная последовательность [7, 9, 13, 15, 19, 48, 49, 58, 59, 90]"
   ]
  },
  {
   "cell_type": "code",
   "execution_count": 4,
   "metadata": {},
   "outputs": [
    {
     "name": "stdout",
     "output_type": "stream",
     "text": [
      "[43, 46, 92, 81, 95, 53, 38, 70, 79, 49]\n",
      "Отсортированная последовательность: \n",
      " [38, 43, 46, 49, 53, 70, 79, 81, 92, 95]\n",
      "FALSE\n"
     ]
    }
   ],
   "source": [
    "from random import randint\n",
    " \n",
    "N = 10\n",
    "a = []\n",
    "for i in range(N):\n",
    "    a.append(randint(1, 99))\n",
    "print(a)\n",
    "\n",
    "for x in range(N):\n",
    "    for i in range(1,N):\n",
    "        if a[i] < a[i-1] :\n",
    "            a[i] , a[i-1] = a[i-1] , a[i]\n",
    "\n",
    "print('Отсортированная последовательность: \\n', a)\n",
    "\n",
    "# проверка\n",
    "for i in range(0,len(a)):\n",
    "    if a[i-1] > a[i]:\n",
    "        print('FALSE')\n",
    "        break\n",
    "    if i == len(a) - 1 :\n",
    "        print('TRUE')"
   ]
  },
  {
   "cell_type": "markdown",
   "metadata": {},
   "source": [
    "### Задача 12 Про Поросёнка Петра\n",
    "\n",
    "На плоскости в точке (0,0) стоит Поросёнок Пётр. Он умеет ходить налево, направо, вверх и вниз. Расстояние его прохода в какую-либо сторону измеряется в шагах. Когда он идет вправо, его первая координата увеличивается, когда влево - уменьшается. Когда он идет вверх, его вторая координата увеличивается, а когда вниз - уменьшается. \n",
    "\n",
    "С клавиатуры считывается число N - число ходов, которые сделает Пётр. После чего на каждом шаге спрашивается, сколько шагов и в какую сторону за этот ход Пётр сделает. Так происходит, пока Пётр не осуществит все N ходов.\n",
    "\n",
    "Программа должна вывести, сколько шагов Пётр должен был бы сделать, чтобы кратчайшим путем прибыть из свое начальной точки (0,0) в свою конечную точку. Напоминание: Пётр умеет ходить только вверх-вниз, и влево-вправо, но не по диагонали.\n",
    "\n",
    "Пример ввода: \n",
    "\n",
    "    Введите N: 3\n",
    "    Ход 1: Вверх 1\n",
    "    Ход 2: Вниз 1\n",
    "    Ход 3: Вверх 1\n",
    "    \n",
    "Пример вывода:\n",
    "\n",
    "    Пётр находится на расстоянии 1 от (0,0)"
   ]
  },
  {
   "cell_type": "code",
   "execution_count": 17,
   "metadata": {},
   "outputs": [
    {
     "name": "stdout",
     "output_type": "stream",
     "text": [
      "Введите количество ходов: 3\n",
      "Ход 1 :Вверх 1\n",
      "Ход 2 :Вниз 1\n",
      "Ход 3 :Вверх 1\n",
      "Пётр находится на расстоянии 1 от (0,0).\n"
     ]
    }
   ],
   "source": [
    "moveCount = int(input('Введите количество ходов: '))\n",
    "x = 0\n",
    "y = 0\n",
    "for i in range(1,moveCount+1) :\n",
    "    print('Ход', i, ':',end='')\n",
    "    moveInput = input()\n",
    "    moveDirection = moveInput.split()[0].lower()\n",
    "    moveStrength = int(moveInput.split()[1])\n",
    "    if moveDirection == 'вверх' : y = y + moveStrength\n",
    "    elif moveDirection == 'вниз' : y = y - moveStrength\n",
    "    elif moveDirection == 'влево' : x = x - moveStrength\n",
    "    elif moveDirection == 'вправо' : x = x + moveStrength\n",
    "    else : \n",
    "        print('Непонятный ввод')\n",
    "        break\n",
    "moveMinimal = abs(x) + abs(y)\n",
    "print('Пётр находится на расстоянии {} от (0,0).'.format(moveMinimal))"
   ]
  }
 ],
 "metadata": {
  "kernelspec": {
   "display_name": "Python 3",
   "language": "python",
   "name": "python3"
  },
  "language_info": {
   "codemirror_mode": {
    "name": "ipython",
    "version": 3
   },
   "file_extension": ".py",
   "mimetype": "text/x-python",
   "name": "python",
   "nbconvert_exporter": "python",
   "pygments_lexer": "ipython3",
   "version": "3.8.8"
  }
 },
 "nbformat": 4,
 "nbformat_minor": 2
}
